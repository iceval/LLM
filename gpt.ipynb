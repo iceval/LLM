{
 "cells": [
  {
   "cell_type": "code",
   "execution_count": null,
   "metadata": {},
   "outputs": [],
   "source": [
    "# Установка необходимых библиотек\n",
    "!pip install transformers datasets torch fsspec==2023.10.0"
   ]
  },
  {
   "cell_type": "code",
   "execution_count": null,
   "metadata": {},
   "outputs": [],
   "source": [
    "# Импорт библиотек\n",
    "from transformers import AutoTokenizer, AutoModelForCausalLM, Trainer, TrainingArguments\n",
    "from datasets import load_dataset\n",
    "import torch"
   ]
  },
  {
   "cell_type": "code",
   "execution_count": null,
   "metadata": {},
   "outputs": [],
   "source": [
    "# Определяем устройство (CPU или GPU)\n",
    "device = torch.device(\"cuda\" if torch.cuda.is_available() else \"cpu\")\n",
    "\n",
    "# Загрузка токенизатора и модели\n",
    "model_name = \"gpt2\"\n",
    "tokenizer = AutoTokenizer.from_pretrained(model_name)\n",
    "model = AutoModelForCausalLM.from_pretrained(model_name)\n",
    "\n",
    "# Перемещаем модель на устройство\n",
    "model = model.to(device)\n",
    "\n",
    "# Загрузка и подготовка данных\n",
    "data = load_dataset(\"wikitext\", \"wikitext-2-raw-v1\")\n",
    "\n",
    "# Добавление токена для заполнения\n",
    "tokenizer.pad_token = tokenizer.eos_token\n",
    "\n",
    "# Подготовка данных\n",
    "def preprocess_function(examples):\n",
    "    inputs = tokenizer(examples[\"text\"], truncation=True, padding=\"max_length\", max_length=512)\n",
    "    inputs[\"labels\"] = inputs[\"input_ids\"].copy()  # Добавление меток\n",
    "    return inputs\n",
    "\n",
    "tokenized_datasets = data.map(preprocess_function, batched=True, remove_columns=[\"text\"])\n",
    "\n",
    "# Подготовка данных для тренировки\n",
    "train_dataset = tokenized_datasets[\"train\"].shuffle(seed=42).select(range(1000))  # Используем небольшую выборку\n",
    "eval_dataset = tokenized_datasets[\"validation\"].shuffle(seed=42).select(range(500)) \n",
    "\n",
    "# Настройки тренировки\n",
    "training_args = TrainingArguments(\n",
    "    output_dir=\"./gpt_results\",\n",
    "    report_to=\"none\",\n",
    "    evaluation_strategy=\"epoch\",\n",
    "    learning_rate=2e-4,\n",
    "    per_device_train_batch_size=4,\n",
    "    num_train_epochs=2,\n",
    "    save_strategy=\"epoch\",\n",
    "    logging_dir=\"./logs\",\n",
    "    logging_steps=10,\n",
    "    load_best_model_at_end=True,\n",
    ")\n",
    "\n",
    "# Создание объекта Trainer\n",
    "trainer = Trainer(\n",
    "    model=model,\n",
    "    args=training_args,\n",
    "    train_dataset=train_dataset,\n",
    "    eval_dataset=eval_dataset,\n",
    "    tokenizer=tokenizer,\n",
    ")\n",
    "\n",
    "# Запуск обучения (Тренируем по необходимости)\n",
    "# trainer.train()\n",
    "\n",
    "# Генерация текста после обучения\n",
    "input_text = \"Artificial Intelligence is\"\n",
    "input_ids = tokenizer.encode(input_text, return_tensors='pt').to(device)\n",
    "output = model.generate(input_ids, max_length=50, num_return_sequences=1)\n",
    "\n",
    "# Декодирование текста\n",
    "print(tokenizer.decode(output[0], skip_special_tokens=True))\n"
   ]
  },
  {
   "cell_type": "code",
   "execution_count": null,
   "metadata": {},
   "outputs": [],
   "source": [
    "# Укажите путь к checkpoint\n",
    "model_name = \"./gpt_results/checkpoint-500\"\n",
    "\n",
    "# Загрузка токенизатора и модели из checkpoint\n",
    "tokenizer = AutoTokenizer.from_pretrained(model_name)\n",
    "model = AutoModelForCausalLM.from_pretrained(model_name)\n",
    "\n",
    "# Перемещение модели на устройство\n",
    "device = torch.device(\"cuda\" if torch.cuda.is_available() else \"cpu\")\n",
    "model = model.to(device)\n",
    "\n",
    "# Генерация текста с загруженной моделью\n",
    "input_text = \"Artificial Intelligence is\"\n",
    "input_ids = tokenizer.encode(input_text, return_tensors=\"pt\").to(device)  # Перемещаем данные на устройство\n",
    "output = model.generate(input_ids, max_length=50, num_return_sequences=1)\n",
    "\n",
    "# Декодирование текста\n",
    "print(tokenizer.decode(output[0], skip_special_tokens=True))"
   ]
  }
 ],
 "metadata": {
  "kernelspec": {
   "display_name": "myenv",
   "language": "python",
   "name": "python3"
  },
  "language_info": {
   "codemirror_mode": {
    "name": "ipython",
    "version": 3
   },
   "file_extension": ".py",
   "mimetype": "text/x-python",
   "name": "python",
   "nbconvert_exporter": "python",
   "pygments_lexer": "ipython3",
   "version": "3.12.2"
  }
 },
 "nbformat": 4,
 "nbformat_minor": 2
}
